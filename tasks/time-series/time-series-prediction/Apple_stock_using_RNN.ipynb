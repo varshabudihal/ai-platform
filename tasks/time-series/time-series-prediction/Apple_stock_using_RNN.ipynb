{
  "nbformat": 4,
  "nbformat_minor": 0,
  "metadata": {
    "colab": {
      "name": "Apple_stock_using_RNN.ipynb",
      "version": "0.3.2",
      "provenance": [],
      "collapsed_sections": []
    },
    "kernelspec": {
      "name": "python3",
      "display_name": "Python 3"
    }
  },
  "cells": [
    {
      "cell_type": "markdown",
      "metadata": {
        "id": "fTjejD0nKm5N",
        "colab_type": "text"
      },
      "source": [
        "### Why Should you invest in this Stock?\n",
        "\n",
        "Imagine someone who is new into the stock market world and he wants to know what price the particular stock would be and why should he invest in it to gain the benefits?\n",
        "\n",
        "I have tried to create a model which gives insight of a stock for over 14 years of data which would help an individual to look at past trends and decide if they want to invest into it.\n",
        "Here I have taken into consideration Apple Stock from year 2006 to 2019 and fit a model over it to determine if the model predicts the real stock market price."
      ]
    },
    {
      "cell_type": "markdown",
      "metadata": {
        "id": "X5jwc8gBD8i-",
        "colab_type": "text"
      },
      "source": [
        "### Important Imports"
      ]
    },
    {
      "cell_type": "code",
      "metadata": {
        "id": "idIpEmJA6cC2",
        "colab_type": "code",
        "colab": {}
      },
      "source": [
        "import pandas as pd\n",
        "from pandas import Series, DataFrame\n",
        "import numpy as np\n",
        "from sklearn.model_selection import train_test_split\n"
      ],
      "execution_count": 0,
      "outputs": []
    },
    {
      "cell_type": "code",
      "metadata": {
        "id": "jlz8ProF6phT",
        "colab_type": "code",
        "colab": {}
      },
      "source": [
        "#Visualization Imports\n",
        "\n",
        "import matplotlib.pyplot as plt\n",
        "import seaborn as sns\n",
        "sns.set_style('whitegrid')\n",
        "%matplotlib inline"
      ],
      "execution_count": 0,
      "outputs": []
    },
    {
      "cell_type": "code",
      "metadata": {
        "id": "Ofk4icsm6sEp",
        "colab_type": "code",
        "colab": {}
      },
      "source": [
        "from pandas_datareader import DataReader\n",
        "from datetime import datetime\n",
        "#Do this to not worry about floating number later\n",
        "\n",
        "from __future__ import division"
      ],
      "execution_count": 0,
      "outputs": []
    },
    {
      "cell_type": "code",
      "metadata": {
        "id": "OaFvEveqdms5",
        "colab_type": "code",
        "colab": {}
      },
      "source": [
        "tech_comp = ['AAPL']"
      ],
      "execution_count": 0,
      "outputs": []
    },
    {
      "cell_type": "code",
      "metadata": {
        "id": "zVsN361Q66yU",
        "colab_type": "code",
        "colab": {}
      },
      "source": [
        "end = datetime(2019,8,15)\n",
        "\n",
        "start = datetime(end.year-14,end.month,end.day)"
      ],
      "execution_count": 0,
      "outputs": []
    },
    {
      "cell_type": "code",
      "metadata": {
        "id": "pp-OexqN67U3",
        "colab_type": "code",
        "colab": {}
      },
      "source": [
        "for stock in tech_comp:\n",
        "  globals()[stock] = DataReader(stock,'yahoo',start,end)"
      ],
      "execution_count": 0,
      "outputs": []
    },
    {
      "cell_type": "code",
      "metadata": {
        "id": "jRkjhxQqq__e",
        "colab_type": "code",
        "outputId": "38bd9991-2d1b-471f-f474-e0e8d403b488",
        "colab": {
          "base_uri": "https://localhost:8080/",
          "height": 297
        }
      },
      "source": [
        "AAPL.describe()"
      ],
      "execution_count": 7,
      "outputs": [
        {
          "output_type": "execute_result",
          "data": {
            "text/html": [
              "<div>\n",
              "<style scoped>\n",
              "    .dataframe tbody tr th:only-of-type {\n",
              "        vertical-align: middle;\n",
              "    }\n",
              "\n",
              "    .dataframe tbody tr th {\n",
              "        vertical-align: top;\n",
              "    }\n",
              "\n",
              "    .dataframe thead th {\n",
              "        text-align: right;\n",
              "    }\n",
              "</style>\n",
              "<table border=\"1\" class=\"dataframe\">\n",
              "  <thead>\n",
              "    <tr style=\"text-align: right;\">\n",
              "      <th></th>\n",
              "      <th>High</th>\n",
              "      <th>Low</th>\n",
              "      <th>Open</th>\n",
              "      <th>Close</th>\n",
              "      <th>Volume</th>\n",
              "      <th>Adj Close</th>\n",
              "    </tr>\n",
              "  </thead>\n",
              "  <tbody>\n",
              "    <tr>\n",
              "      <th>count</th>\n",
              "      <td>3525.000000</td>\n",
              "      <td>3525.000000</td>\n",
              "      <td>3525.000000</td>\n",
              "      <td>3525.000000</td>\n",
              "      <td>3.525000e+03</td>\n",
              "      <td>3525.000000</td>\n",
              "    </tr>\n",
              "    <tr>\n",
              "      <th>mean</th>\n",
              "      <td>78.134074</td>\n",
              "      <td>76.654277</td>\n",
              "      <td>77.409952</td>\n",
              "      <td>77.411881</td>\n",
              "      <td>1.205127e+08</td>\n",
              "      <td>72.477944</td>\n",
              "    </tr>\n",
              "    <tr>\n",
              "      <th>std</th>\n",
              "      <td>59.091077</td>\n",
              "      <td>58.135621</td>\n",
              "      <td>58.593827</td>\n",
              "      <td>58.623108</td>\n",
              "      <td>1.006220e+08</td>\n",
              "      <td>58.000791</td>\n",
              "    </tr>\n",
              "    <tr>\n",
              "      <th>min</th>\n",
              "      <td>6.575714</td>\n",
              "      <td>6.465714</td>\n",
              "      <td>6.467143</td>\n",
              "      <td>6.534286</td>\n",
              "      <td>1.136200e+07</td>\n",
              "      <td>5.702558</td>\n",
              "    </tr>\n",
              "    <tr>\n",
              "      <th>25%</th>\n",
              "      <td>24.235714</td>\n",
              "      <td>23.547142</td>\n",
              "      <td>23.914286</td>\n",
              "      <td>23.980000</td>\n",
              "      <td>4.170640e+07</td>\n",
              "      <td>20.927660</td>\n",
              "    </tr>\n",
              "    <tr>\n",
              "      <th>50%</th>\n",
              "      <td>66.714287</td>\n",
              "      <td>65.702858</td>\n",
              "      <td>66.265717</td>\n",
              "      <td>66.281425</td>\n",
              "      <td>9.526020e+07</td>\n",
              "      <td>58.904881</td>\n",
              "    </tr>\n",
              "    <tr>\n",
              "      <th>75%</th>\n",
              "      <td>115.570000</td>\n",
              "      <td>113.320000</td>\n",
              "      <td>114.309998</td>\n",
              "      <td>114.320000</td>\n",
              "      <td>1.682436e+08</td>\n",
              "      <td>107.425720</td>\n",
              "    </tr>\n",
              "    <tr>\n",
              "      <th>max</th>\n",
              "      <td>233.470001</td>\n",
              "      <td>229.779999</td>\n",
              "      <td>230.779999</td>\n",
              "      <td>232.070007</td>\n",
              "      <td>8.432424e+08</td>\n",
              "      <td>228.523819</td>\n",
              "    </tr>\n",
              "  </tbody>\n",
              "</table>\n",
              "</div>"
            ],
            "text/plain": [
              "              High          Low  ...        Volume    Adj Close\n",
              "count  3525.000000  3525.000000  ...  3.525000e+03  3525.000000\n",
              "mean     78.134074    76.654277  ...  1.205127e+08    72.477944\n",
              "std      59.091077    58.135621  ...  1.006220e+08    58.000791\n",
              "min       6.575714     6.465714  ...  1.136200e+07     5.702558\n",
              "25%      24.235714    23.547142  ...  4.170640e+07    20.927660\n",
              "50%      66.714287    65.702858  ...  9.526020e+07    58.904881\n",
              "75%     115.570000   113.320000  ...  1.682436e+08   107.425720\n",
              "max     233.470001   229.779999  ...  8.432424e+08   228.523819\n",
              "\n",
              "[8 rows x 6 columns]"
            ]
          },
          "metadata": {
            "tags": []
          },
          "execution_count": 7
        }
      ]
    },
    {
      "cell_type": "code",
      "metadata": {
        "id": "FUlH9MDNp1SE",
        "colab_type": "code",
        "colab": {}
      },
      "source": [
        "data = pd.DataFrame(AAPL)"
      ],
      "execution_count": 0,
      "outputs": []
    },
    {
      "cell_type": "code",
      "metadata": {
        "id": "Ql0i-nLb7CXc",
        "colab_type": "code",
        "outputId": "4618894a-d9ca-462d-a023-50e4ea7993a4",
        "colab": {
          "base_uri": "https://localhost:8080/",
          "height": 297
        }
      },
      "source": [
        "data.describe()"
      ],
      "execution_count": 9,
      "outputs": [
        {
          "output_type": "execute_result",
          "data": {
            "text/html": [
              "<div>\n",
              "<style scoped>\n",
              "    .dataframe tbody tr th:only-of-type {\n",
              "        vertical-align: middle;\n",
              "    }\n",
              "\n",
              "    .dataframe tbody tr th {\n",
              "        vertical-align: top;\n",
              "    }\n",
              "\n",
              "    .dataframe thead th {\n",
              "        text-align: right;\n",
              "    }\n",
              "</style>\n",
              "<table border=\"1\" class=\"dataframe\">\n",
              "  <thead>\n",
              "    <tr style=\"text-align: right;\">\n",
              "      <th></th>\n",
              "      <th>High</th>\n",
              "      <th>Low</th>\n",
              "      <th>Open</th>\n",
              "      <th>Close</th>\n",
              "      <th>Volume</th>\n",
              "      <th>Adj Close</th>\n",
              "    </tr>\n",
              "  </thead>\n",
              "  <tbody>\n",
              "    <tr>\n",
              "      <th>count</th>\n",
              "      <td>3525.000000</td>\n",
              "      <td>3525.000000</td>\n",
              "      <td>3525.000000</td>\n",
              "      <td>3525.000000</td>\n",
              "      <td>3.525000e+03</td>\n",
              "      <td>3525.000000</td>\n",
              "    </tr>\n",
              "    <tr>\n",
              "      <th>mean</th>\n",
              "      <td>78.134074</td>\n",
              "      <td>76.654277</td>\n",
              "      <td>77.409952</td>\n",
              "      <td>77.411881</td>\n",
              "      <td>1.205127e+08</td>\n",
              "      <td>72.477944</td>\n",
              "    </tr>\n",
              "    <tr>\n",
              "      <th>std</th>\n",
              "      <td>59.091077</td>\n",
              "      <td>58.135621</td>\n",
              "      <td>58.593827</td>\n",
              "      <td>58.623108</td>\n",
              "      <td>1.006220e+08</td>\n",
              "      <td>58.000791</td>\n",
              "    </tr>\n",
              "    <tr>\n",
              "      <th>min</th>\n",
              "      <td>6.575714</td>\n",
              "      <td>6.465714</td>\n",
              "      <td>6.467143</td>\n",
              "      <td>6.534286</td>\n",
              "      <td>1.136200e+07</td>\n",
              "      <td>5.702558</td>\n",
              "    </tr>\n",
              "    <tr>\n",
              "      <th>25%</th>\n",
              "      <td>24.235714</td>\n",
              "      <td>23.547142</td>\n",
              "      <td>23.914286</td>\n",
              "      <td>23.980000</td>\n",
              "      <td>4.170640e+07</td>\n",
              "      <td>20.927660</td>\n",
              "    </tr>\n",
              "    <tr>\n",
              "      <th>50%</th>\n",
              "      <td>66.714287</td>\n",
              "      <td>65.702858</td>\n",
              "      <td>66.265717</td>\n",
              "      <td>66.281425</td>\n",
              "      <td>9.526020e+07</td>\n",
              "      <td>58.904881</td>\n",
              "    </tr>\n",
              "    <tr>\n",
              "      <th>75%</th>\n",
              "      <td>115.570000</td>\n",
              "      <td>113.320000</td>\n",
              "      <td>114.309998</td>\n",
              "      <td>114.320000</td>\n",
              "      <td>1.682436e+08</td>\n",
              "      <td>107.425720</td>\n",
              "    </tr>\n",
              "    <tr>\n",
              "      <th>max</th>\n",
              "      <td>233.470001</td>\n",
              "      <td>229.779999</td>\n",
              "      <td>230.779999</td>\n",
              "      <td>232.070007</td>\n",
              "      <td>8.432424e+08</td>\n",
              "      <td>228.523819</td>\n",
              "    </tr>\n",
              "  </tbody>\n",
              "</table>\n",
              "</div>"
            ],
            "text/plain": [
              "              High          Low  ...        Volume    Adj Close\n",
              "count  3525.000000  3525.000000  ...  3.525000e+03  3525.000000\n",
              "mean     78.134074    76.654277  ...  1.205127e+08    72.477944\n",
              "std      59.091077    58.135621  ...  1.006220e+08    58.000791\n",
              "min       6.575714     6.465714  ...  1.136200e+07     5.702558\n",
              "25%      24.235714    23.547142  ...  4.170640e+07    20.927660\n",
              "50%      66.714287    65.702858  ...  9.526020e+07    58.904881\n",
              "75%     115.570000   113.320000  ...  1.682436e+08   107.425720\n",
              "max     233.470001   229.779999  ...  8.432424e+08   228.523819\n",
              "\n",
              "[8 rows x 6 columns]"
            ]
          },
          "metadata": {
            "tags": []
          },
          "execution_count": 9
        }
      ]
    },
    {
      "cell_type": "code",
      "metadata": {
        "id": "z2JecFlc7H8a",
        "colab_type": "code",
        "outputId": "eb54d5dd-9953-43fe-ad49-ffe190d36ae5",
        "colab": {
          "base_uri": "https://localhost:8080/",
          "height": 204
        }
      },
      "source": [
        "data.info()"
      ],
      "execution_count": 10,
      "outputs": [
        {
          "output_type": "stream",
          "text": [
            "<class 'pandas.core.frame.DataFrame'>\n",
            "DatetimeIndex: 3525 entries, 2005-08-15 to 2019-08-15\n",
            "Data columns (total 6 columns):\n",
            "High         3525 non-null float64\n",
            "Low          3525 non-null float64\n",
            "Open         3525 non-null float64\n",
            "Close        3525 non-null float64\n",
            "Volume       3525 non-null float64\n",
            "Adj Close    3525 non-null float64\n",
            "dtypes: float64(6)\n",
            "memory usage: 192.8 KB\n"
          ],
          "name": "stdout"
        }
      ]
    },
    {
      "cell_type": "markdown",
      "metadata": {
        "id": "MZGTRSinDzZ0",
        "colab_type": "text"
      },
      "source": [
        "###Split data into training and testing set with 80% of the data going into training"
      ]
    },
    {
      "cell_type": "code",
      "metadata": {
        "id": "v0BYAO617Kol",
        "colab_type": "code",
        "outputId": "e25438df-a5cf-4d67-86d8-f4d7f263b3de",
        "colab": {
          "base_uri": "https://localhost:8080/",
          "height": 34
        }
      },
      "source": [
        "\n",
        "training, testing = train_test_split(data, test_size=0.2, random_state=0)\n",
        "print(\"Total sample size = %i; training sample size = %i, testing sample size = %i\"\\\n",
        "     %(data.shape[0],training.shape[0],testing.shape[0]))"
      ],
      "execution_count": 11,
      "outputs": [
        {
          "output_type": "stream",
          "text": [
            "Total sample size = 3525; training sample size = 2820, testing sample size = 705\n"
          ],
          "name": "stdout"
        }
      ]
    },
    {
      "cell_type": "markdown",
      "metadata": {
        "id": "hcTqA1X_Ddaw",
        "colab_type": "text"
      },
      "source": [
        "###In order to pick particular columns - in this project \"Open\" ioc is done so that column can be selected by index numbers"
      ]
    },
    {
      "cell_type": "code",
      "metadata": {
        "id": "PZjqBgkuvm4W",
        "colab_type": "code",
        "colab": {}
      },
      "source": [
        "\n",
        "df_train_s = training.iloc[:,2:3].values\n",
        "df_test_s = testing.iloc[:,2:3].values\n"
      ],
      "execution_count": 0,
      "outputs": []
    },
    {
      "cell_type": "markdown",
      "metadata": {
        "id": "SOSVW2FNEFZ-",
        "colab_type": "text"
      },
      "source": [
        "### Plotted the Adj Closing price of Apple stock. Seems like the price for Apple is always an Upward trend."
      ]
    },
    {
      "cell_type": "code",
      "metadata": {
        "id": "N5SKauKJBfjp",
        "colab_type": "code",
        "outputId": "78caa0b4-3624-474d-bd5c-8473ed43081e",
        "colab": {
          "base_uri": "https://localhost:8080/",
          "height": 285
        }
      },
      "source": [
        "data[\"Adj Close\"][:'2016'].plot(figsize=(16,4),legend=True)\n",
        "data[\"Adj Close\"]['2017':].plot(figsize=(16,4),legend=True)\n",
        "plt.legend(['Training set on 80% data','Test set on rest 20%'])\n",
        "plt.title('Apple stock price')\n",
        "plt.show()"
      ],
      "execution_count": 13,
      "outputs": [
        {
          "output_type": "display_data",
          "data": {
            "image/png": "[encoded data removed]",
            "text/plain": [
              "<Figure size 1152x288 with 1 Axes>"
            ]
          },
          "metadata": {
            "tags": []
          }
        }
      ]
    },
    {
      "cell_type": "markdown",
      "metadata": {
        "id": "I_JouREJEd7p",
        "colab_type": "text"
      },
      "source": [
        "### Plotted the number of Stocks purchased by people. Seems like the stock purchase went stable post 2015. We can see that the stocks were purchased at a high volume from years mid 2006 to 2014"
      ]
    },
    {
      "cell_type": "code",
      "metadata": {
        "id": "Rm-hQo-d6UdC",
        "colab_type": "code",
        "outputId": "9a13545d-d0ca-4b8e-b920-7166b9e4073a",
        "colab": {
          "base_uri": "https://localhost:8080/",
          "height": 285
        }
      },
      "source": [
        "data['Volume'][:'2016'].plot(figsize=(16,4),legend=True)\n",
        "data['Volume']['2017':].plot(figsize=(16,4),legend=True)\n",
        "plt.legend(['Training set on 80% data','Test set on rest 20%'])\n",
        "plt.title('Apple stock price')\n",
        "plt.show()"
      ],
      "execution_count": 14,
      "outputs": [
        {
          "output_type": "display_data",
          "data": {
            "image/png": "[encoded data removed]",
            "text/plain": [
              "<Figure size 1152x288 with 1 Axes>"
            ]
          },
          "metadata": {
            "tags": []
          }
        }
      ]
    },
    {
      "cell_type": "code",
      "metadata": {
        "id": "WIDS211avmrm",
        "colab_type": "code",
        "colab": {}
      },
      "source": [
        "# Feature Scaling\n",
        "\n",
        "from sklearn.preprocessing import MinMaxScaler\n",
        "sc = MinMaxScaler(feature_range=(0,1))\n",
        "training_scaled = sc.fit_transform(training)"
      ],
      "execution_count": 0,
      "outputs": []
    },
    {
      "cell_type": "markdown",
      "metadata": {
        "id": "lgRcNraUE_Ks",
        "colab_type": "text"
      },
      "source": [
        "### 60 Timestamps ..since the data will train the model on previous 60 rows to predict the next value"
      ]
    },
    {
      "cell_type": "code",
      "metadata": {
        "id": "RgzWiCWivmdq",
        "colab_type": "code",
        "colab": {}
      },
      "source": [
        "# Creating a data structure with 60 timestamps and 1 output\n",
        "\n",
        "X_train = []\n",
        "y_train = []\n",
        "for i in range(60, 2820):\n",
        "    X_train.append(training_scaled[i - 60 : i , 0])\n",
        "    y_train.append(training_scaled[i,0])\n",
        "    \n",
        "X_train, y_train = np.array(X_train) , np.array(y_train)"
      ],
      "execution_count": 0,
      "outputs": []
    },
    {
      "cell_type": "code",
      "metadata": {
        "id": "OoYUW3csvmNs",
        "colab_type": "code",
        "colab": {}
      },
      "source": [
        "# Reshaping\n",
        "\n",
        "X_train = np.reshape(X_train,(X_train.shape[0], X_train.shape[1], 1))"
      ],
      "execution_count": 0,
      "outputs": []
    },
    {
      "cell_type": "code",
      "metadata": {
        "id": "OGyWrRW_-lx5",
        "colab_type": "code",
        "outputId": "598c558c-5efd-496d-f347-cc09709554db",
        "colab": {
          "base_uri": "https://localhost:8080/",
          "height": 34
        }
      },
      "source": [
        "\n",
        "# Importing keras libs and packages\n",
        "\n",
        "from keras.models import Sequential\n",
        "from keras.layers import Dense, LSTM, Dropout, GRU, Bidirectional\n",
        "from keras.optimizers import SGD\n",
        "import math\n",
        "from sklearn.metrics import mean_squared_error\n",
        "\n"
      ],
      "execution_count": 18,
      "outputs": [
        {
          "output_type": "stream",
          "text": [
            "Using TensorFlow backend.\n"
          ],
          "name": "stderr"
        }
      ]
    },
    {
      "cell_type": "code",
      "metadata": {
        "id": "3A0EE4twvEAr",
        "colab_type": "code",
        "outputId": "0c73022f-1f71-4d11-a2ad-2ab7c55d7c08",
        "colab": {
          "base_uri": "https://localhost:8080/",
          "height": 1000
        }
      },
      "source": [
        "# The LSTM architecture\n",
        "regressor = Sequential()\n",
        "# First LSTM layer with Dropout regularisation\n",
        "regressor.add(LSTM(units=50, return_sequences=True, input_shape=(X_train.shape[1],1)))\n",
        "regressor.add(Dropout(0.2))\n",
        "# Second LSTM layer\n",
        "regressor.add(LSTM(units=50, return_sequences=True))\n",
        "regressor.add(Dropout(0.2))\n",
        "# Third LSTM layer\n",
        "regressor.add(LSTM(units=50, return_sequences=True))\n",
        "regressor.add(Dropout(0.2))\n",
        "# Fourth LSTM layer\n",
        "regressor.add(LSTM(units=50))\n",
        "regressor.add(Dropout(0.2))\n",
        "# The output layer\n",
        "regressor.add(Dense(units=1))\n",
        "\n",
        "# Compiling the RNN\n",
        "regressor.compile(optimizer='rmsprop',loss='mean_squared_error')\n",
        "# Fitting to the training set\n",
        "regressor.fit(X_train,y_train,epochs=50,batch_size=32)\n"
      ],
      "execution_count": 19,
      "outputs": [
        {
          "output_type": "stream",
          "text": [
            "WARNING: Logging before flag parsing goes to stderr.\n",
            "W0817 15:54:21.022677 139858341410688 deprecation_wrapper.py:119] From /usr/local/lib/python3.6/dist-packages/keras/backend/tensorflow_backend.py:74: The name tf.get_default_graph is deprecated. Please use tf.compat.v1.get_default_graph instead.\n",
            "\n",
            "W0817 15:54:21.074766 139858341410688 deprecation_wrapper.py:119] From /usr/local/lib/python3.6/dist-packages/keras/backend/tensorflow_backend.py:517: The name tf.placeholder is deprecated. Please use tf.compat.v1.placeholder instead.\n",
            "\n",
            "W0817 15:54:21.081903 139858341410688 deprecation_wrapper.py:119] From /usr/local/lib/python3.6/dist-packages/keras/backend/tensorflow_backend.py:4138: The name tf.random_uniform is deprecated. Please use tf.random.uniform instead.\n",
            "\n",
            "W0817 15:54:21.344488 139858341410688 deprecation_wrapper.py:119] From /usr/local/lib/python3.6/dist-packages/keras/backend/tensorflow_backend.py:133: The name tf.placeholder_with_default is deprecated. Please use tf.compat.v1.placeholder_with_default instead.\n",
            "\n",
            "W0817 15:54:21.356760 139858341410688 deprecation.py:506] From /usr/local/lib/python3.6/dist-packages/keras/backend/tensorflow_backend.py:3445: calling dropout (from tensorflow.python.ops.nn_ops) with keep_prob is deprecated and will be removed in a future version.\n",
            "Instructions for updating:\n",
            "Please use `rate` instead of `keep_prob`. Rate should be set to `rate = 1 - keep_prob`.\n",
            "W0817 15:54:22.215494 139858341410688 deprecation_wrapper.py:119] From /usr/local/lib/python3.6/dist-packages/keras/optimizers.py:790: The name tf.train.Optimizer is deprecated. Please use tf.compat.v1.train.Optimizer instead.\n",
            "\n",
            "W0817 15:54:22.576086 139858341410688 deprecation.py:323] From /usr/local/lib/python3.6/dist-packages/tensorflow/python/ops/math_grad.py:1250: add_dispatch_support.<locals>.wrapper (from tensorflow.python.ops.array_ops) is deprecated and will be removed in a future version.\n",
            "Instructions for updating:\n",
            "Use tf.where in 2.0, which has the same broadcast rule as np.where\n",
            "W0817 15:54:25.376387 139858341410688 deprecation_wrapper.py:119] From /usr/local/lib/python3.6/dist-packages/keras/backend/tensorflow_backend.py:986: The name tf.assign_add is deprecated. Please use tf.compat.v1.assign_add instead.\n",
            "\n"
          ],
          "name": "stderr"
        },
        {
          "output_type": "stream",
          "text": [
            "Epoch 1/50\n",
            "2760/2760 [==============================] - 18s 6ms/step - loss: 0.0758\n",
            "Epoch 2/50\n",
            "2760/2760 [==============================] - 15s 5ms/step - loss: 0.0696\n",
            "Epoch 3/50\n",
            "2760/2760 [==============================] - 15s 5ms/step - loss: 0.0691\n",
            "Epoch 4/50\n",
            "2760/2760 [==============================] - 15s 5ms/step - loss: 0.0685\n",
            "Epoch 5/50\n",
            "2760/2760 [==============================] - 15s 5ms/step - loss: 0.0678\n",
            "Epoch 6/50\n",
            "2760/2760 [==============================] - 15s 5ms/step - loss: 0.0681\n",
            "Epoch 7/50\n",
            "2760/2760 [==============================] - 15s 5ms/step - loss: 0.0678\n",
            "Epoch 8/50\n",
            "2760/2760 [==============================] - 15s 5ms/step - loss: 0.0679\n",
            "Epoch 9/50\n",
            "2760/2760 [==============================] - 15s 5ms/step - loss: 0.0675\n",
            "Epoch 10/50\n",
            "2760/2760 [==============================] - 15s 5ms/step - loss: 0.0677\n",
            "Epoch 11/50\n",
            "2760/2760 [==============================] - 15s 5ms/step - loss: 0.0677\n",
            "Epoch 12/50\n",
            "2760/2760 [==============================] - 15s 5ms/step - loss: 0.0674\n",
            "Epoch 13/50\n",
            "2760/2760 [==============================] - 15s 5ms/step - loss: 0.0673\n",
            "Epoch 14/50\n",
            "2760/2760 [==============================] - 15s 5ms/step - loss: 0.0675\n",
            "Epoch 15/50\n",
            "2760/2760 [==============================] - 15s 5ms/step - loss: 0.0675\n",
            "Epoch 16/50\n",
            "2760/2760 [==============================] - 15s 5ms/step - loss: 0.0672\n",
            "Epoch 17/50\n",
            "2760/2760 [==============================] - 15s 5ms/step - loss: 0.0675\n",
            "Epoch 18/50\n",
            "2760/2760 [==============================] - 15s 5ms/step - loss: 0.0676\n",
            "Epoch 19/50\n",
            "2760/2760 [==============================] - 15s 5ms/step - loss: 0.0677\n",
            "Epoch 20/50\n",
            "2760/2760 [==============================] - 15s 5ms/step - loss: 0.0673\n",
            "Epoch 21/50\n",
            "2760/2760 [==============================] - 15s 5ms/step - loss: 0.0678\n",
            "Epoch 22/50\n",
            "2760/2760 [==============================] - 15s 5ms/step - loss: 0.0671\n",
            "Epoch 23/50\n",
            "2760/2760 [==============================] - 15s 5ms/step - loss: 0.0673\n",
            "Epoch 24/50\n",
            "2760/2760 [==============================] - 15s 5ms/step - loss: 0.0670\n",
            "Epoch 25/50\n",
            "2760/2760 [==============================] - 15s 5ms/step - loss: 0.0676\n",
            "Epoch 26/50\n",
            "2760/2760 [==============================] - 15s 5ms/step - loss: 0.0671\n",
            "Epoch 27/50\n",
            "2760/2760 [==============================] - 15s 5ms/step - loss: 0.0674\n",
            "Epoch 28/50\n",
            "2760/2760 [==============================] - 15s 5ms/step - loss: 0.0674\n",
            "Epoch 29/50\n",
            "2760/2760 [==============================] - 15s 5ms/step - loss: 0.0673\n",
            "Epoch 30/50\n",
            "2760/2760 [==============================] - 15s 5ms/step - loss: 0.0672\n",
            "Epoch 31/50\n",
            "2760/2760 [==============================] - 15s 5ms/step - loss: 0.0671\n",
            "Epoch 32/50\n",
            "2760/2760 [==============================] - 15s 5ms/step - loss: 0.0675\n",
            "Epoch 33/50\n",
            "2760/2760 [==============================] - 15s 5ms/step - loss: 0.0671\n",
            "Epoch 34/50\n",
            "2760/2760 [==============================] - 15s 5ms/step - loss: 0.0674\n",
            "Epoch 35/50\n",
            "2760/2760 [==============================] - 15s 5ms/step - loss: 0.0669\n",
            "Epoch 36/50\n",
            "2760/2760 [==============================] - 15s 5ms/step - loss: 0.0670\n",
            "Epoch 37/50\n",
            "2760/2760 [==============================] - 15s 5ms/step - loss: 0.0672\n",
            "Epoch 38/50\n",
            "2760/2760 [==============================] - 15s 5ms/step - loss: 0.0670\n",
            "Epoch 39/50\n",
            "2760/2760 [==============================] - 15s 5ms/step - loss: 0.0674\n",
            "Epoch 40/50\n",
            "2760/2760 [==============================] - 15s 5ms/step - loss: 0.0671\n",
            "Epoch 41/50\n",
            "2760/2760 [==============================] - 15s 5ms/step - loss: 0.0672\n",
            "Epoch 42/50\n",
            "2760/2760 [==============================] - 15s 5ms/step - loss: 0.0670\n",
            "Epoch 43/50\n",
            "2760/2760 [==============================] - 15s 5ms/step - loss: 0.0667\n",
            "Epoch 44/50\n",
            "2760/2760 [==============================] - 15s 5ms/step - loss: 0.0671\n",
            "Epoch 45/50\n",
            "2760/2760 [==============================] - 15s 5ms/step - loss: 0.0671\n",
            "Epoch 46/50\n",
            "2760/2760 [==============================] - 15s 5ms/step - loss: 0.0668\n",
            "Epoch 47/50\n",
            "2760/2760 [==============================] - 15s 5ms/step - loss: 0.0671\n",
            "Epoch 48/50\n",
            "2760/2760 [==============================] - 15s 5ms/step - loss: 0.0671\n",
            "Epoch 49/50\n",
            "2760/2760 [==============================] - 15s 5ms/step - loss: 0.0669\n",
            "Epoch 50/50\n",
            "2760/2760 [==============================] - 15s 5ms/step - loss: 0.0671\n"
          ],
          "name": "stdout"
        },
        {
          "output_type": "execute_result",
          "data": {
            "text/plain": [
              "<keras.callbacks.History at 0x7f3308494e10>"
            ]
          },
          "metadata": {
            "tags": []
          },
          "execution_count": 19
        }
      ]
    },
    {
      "cell_type": "code",
      "metadata": {
        "id": "4AG2JYsb4Yb2",
        "colab_type": "code",
        "colab": {}
      },
      "source": [
        "real_stock_price = testing.iloc[: , 2:3].values"
      ],
      "execution_count": 0,
      "outputs": []
    },
    {
      "cell_type": "code",
      "metadata": {
        "id": "gMxynegw1J9_",
        "colab_type": "code",
        "colab": {}
      },
      "source": [
        "dataset_total = pd.concat((training[\"Adj Close\"], testing[\"Adj Close\"]) , axis = 0)\n",
        "inputs = dataset_total[len(dataset_total) - len(testing) - 60 :].values\n",
        "inputs = inputs.reshape(-1 , 1)"
      ],
      "execution_count": 0,
      "outputs": []
    },
    {
      "cell_type": "code",
      "metadata": {
        "id": "wZQZJobb1TjB",
        "colab_type": "code",
        "colab": {}
      },
      "source": [
        "from sklearn.preprocessing import StandardScaler\n",
        "scaler = StandardScaler()\n",
        "inputs= scaler.fit_transform(inputs)\n",
        "inputs = scaler.transform(inputs)"
      ],
      "execution_count": 0,
      "outputs": []
    },
    {
      "cell_type": "code",
      "metadata": {
        "id": "59uriYhn34bd",
        "colab_type": "code",
        "colab": {}
      },
      "source": [
        "X_test = []\n",
        "for i in range(60, 705):\n",
        "    X_test.append(inputs[i - 60 : i , 0])"
      ],
      "execution_count": 0,
      "outputs": []
    },
    {
      "cell_type": "code",
      "metadata": {
        "id": "jk-tUwjb38ud",
        "colab_type": "code",
        "colab": {}
      },
      "source": [
        "X_test = np.array(X_test)\n",
        "X_test = np.reshape(X_test , (X_test.shape[0] , X_test.shape[1] , 1))\n",
        "predicted_stock_price = regressor.predict(X_test)\n",
        "predicted_stock_price = scaler.inverse_transform(predicted_stock_price)"
      ],
      "execution_count": 0,
      "outputs": []
    },
    {
      "cell_type": "code",
      "metadata": {
        "id": "yMJ_sk5iF6jx",
        "colab_type": "code",
        "outputId": "86a98999-9174-48bc-b9ac-c104f702d762",
        "colab": {
          "base_uri": "https://localhost:8080/",
          "height": 295
        }
      },
      "source": [
        "plt.plot(real_stock_price, color = 'red' , label = ' Real Apple Stock Price')\n",
        "plt.plot(predicted_stock_price, color = 'blue' , label = 'Predicted Apple Stock Price')\n",
        "plt.title('Apple Stock Price Prediction')\n",
        "plt.xlabel('Time')\n",
        "plt.ylabel('Apple Stock Price') \n",
        "plt.legend()\n",
        "plt.show()\n",
        "\n"
      ],
      "execution_count": 25,
      "outputs": [
        {
          "output_type": "display_data",
          "data": {
            "image/png": "[encoded data removed]",
            "text/plain": [
              "<Figure size 432x288 with 1 Axes>"
            ]
          },
          "metadata": {
            "tags": []
          }
        }
      ]
    },
    {
      "cell_type": "markdown",
      "metadata": {
        "id": "I6ZOI0AlFXjv",
        "colab_type": "text"
      },
      "source": [
        "### The above plot displays the real stock price vs the predicted. The predicted stock price is a straight line which might be because of the data. Since it is a large dataset, and divding it randomly might have caused some noise. Besides that, it can also be infered that the stock price is almost always constant over the years giving the individual who invested a stable stock to consider for a long run. \n",
        "###There is also a possibility that money would have gained value over the years. This I could say is because Apple buying volumes are constant and the price of closing value for the day varies. "
      ]
    },
    {
      "cell_type": "code",
      "metadata": {
        "id": "dHjLv5w-F6J1",
        "colab_type": "code",
        "colab": {}
      },
      "source": [
        ""
      ],
      "execution_count": 0,
      "outputs": []
    },
    {
      "cell_type": "code",
      "metadata": {
        "id": "B9CWfHRLvOHc",
        "colab_type": "code",
        "colab": {}
      },
      "source": [
        ""
      ],
      "execution_count": 0,
      "outputs": []
    },
    {
      "cell_type": "code",
      "metadata": {
        "id": "H5lRDbiA1TqZ",
        "colab_type": "code",
        "colab": {}
      },
      "source": [
        ""
      ],
      "execution_count": 0,
      "outputs": []
    },
    {
      "cell_type": "code",
      "metadata": {
        "id": "0zrvD4lN1Y9t",
        "colab_type": "code",
        "colab": {}
      },
      "source": [
        ""
      ],
      "execution_count": 0,
      "outputs": []
    }
  ]
}